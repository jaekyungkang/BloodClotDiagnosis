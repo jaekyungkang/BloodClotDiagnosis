{
 "cells": [
  {
   "cell_type": "code",
   "execution_count": 2,
   "id": "88f7c5d8-b0ec-4d7d-9e64-349dde755d91",
   "metadata": {},
   "outputs": [
    {
     "name": "stderr",
     "output_type": "stream",
     "text": [
      "2024-04-21 00:51:40.490812: I tensorflow/core/util/port.cc:113] oneDNN custom operations are on. You may see slightly different numerical results due to floating-point round-off errors from different computation orders. To turn them off, set the environment variable `TF_ENABLE_ONEDNN_OPTS=0`.\n",
      "2024-04-21 00:51:40.543816: I tensorflow/core/platform/cpu_feature_guard.cc:210] This TensorFlow binary is optimized to use available CPU instructions in performance-critical operations.\n",
      "To enable the following instructions: AVX2 AVX512F AVX512_VNNI AVX512_BF16 AVX512_FP16 AVX_VNNI AMX_TILE AMX_INT8 AMX_BF16 FMA, in other operations, rebuild TensorFlow with the appropriate compiler flags.\n",
      "2024-04-21 00:51:42.208760: W tensorflow/compiler/tf2tensorrt/utils/py_utils.cc:38] TF-TRT Warning: Could not find TensorRT\n",
      "2024-04-21 00:51:43.660329: I itex/core/wrapper/itex_cpu_wrapper.cc:42] Intel Extension for Tensorflow* AVX512 CPU backend is loaded.\n",
      "2024-04-21 00:51:44.315926: I itex/core/wrapper/itex_gpu_wrapper.cc:35] Intel Extension for Tensorflow* GPU backend is loaded.\n",
      "2024-04-21 00:51:44.347435: W itex/core/ops/op_init.cc:58] Op: _QuantizedMaxPool3D is already registered in Tensorflow\n",
      "2024-04-21 00:51:44.374415: I itex/core/devices/gpu/itex_gpu_runtime.cc:129] Selected platform: Intel(R) Level-Zero\n",
      "2024-04-21 00:51:44.374438: I itex/core/devices/gpu/itex_gpu_runtime.cc:154] number of sub-devices is zero, expose root device.\n"
     ]
    }
   ],
   "source": [
    "import os\n",
    "import pydicom\n",
    "import cv2\n",
    "from tensorflow.keras.applications.resnet_v2 import preprocess_input"
   ]
  },
  {
   "cell_type": "code",
   "execution_count": 3,
   "id": "a7288d2e-6608-4492-b93a-3c022518db2f",
   "metadata": {},
   "outputs": [],
   "source": [
    "import pandas as pd\n",
    "import numpy as np\n",
    "import keras\n",
    "from keras import layers\n",
    "import keras\n",
    "from keras.applications import ResNet50V2\n",
    "from keras.applications.resnet50 import preprocess_input, decode_predictions"
   ]
  },
  {
   "cell_type": "markdown",
   "id": "aaf383b2-5460-4b7f-b77e-5d15534c5260",
   "metadata": {},
   "source": [
    "## Preprocessing the data so that ResNet can accept the images"
   ]
  },
  {
   "cell_type": "code",
   "execution_count": 8,
   "id": "f6fc4d4c-dedb-448f-b244-fdb821988384",
   "metadata": {},
   "outputs": [],
   "source": [
    "def load_preprocessed_dicom_files(directory):\n",
    "    images = []\n",
    "    for root, dirs, files in os.walk(directory):\n",
    "        for file in files:\n",
    "            if file.endswith('.dcm'):\n",
    "                file_path = os.path.join(root, file)\n",
    "                image = load_and_preprocess_dicom(file_path)\n",
    "                images.append(image)\n",
    "    return np.array(images)"
   ]
  },
  {
   "cell_type": "code",
   "execution_count": 9,
   "id": "99eda7ca-fffc-479f-b14f-c1c8f4377ded",
   "metadata": {},
   "outputs": [],
   "source": [
    "#loading the  input data from path\n",
    "X_train_path = 'images_train'\n",
    "X_test_path = 'images_test'\n",
    "X_valid_path = 'images_valid'\n",
    "\n",
    "train_X = load_preprocessed_dicom_files(X_train_path)\n",
    "valid_X = load_preprocessed_dicom_files(X_valid_path)\n",
    "test_X  = load_preprocessed_dicom_files(X_test_path)"
   ]
  },
  {
   "cell_type": "code",
   "execution_count": 12,
   "id": "23e6418a-197d-4b9a-b9df-b6984c311c4d",
   "metadata": {},
   "outputs": [
    {
     "data": {
      "text/html": [
       "<div>\n",
       "<style scoped>\n",
       "    .dataframe tbody tr th:only-of-type {\n",
       "        vertical-align: middle;\n",
       "    }\n",
       "\n",
       "    .dataframe tbody tr th {\n",
       "        vertical-align: top;\n",
       "    }\n",
       "\n",
       "    .dataframe thead th {\n",
       "        text-align: right;\n",
       "    }\n",
       "</style>\n",
       "<table border=\"1\" class=\"dataframe\">\n",
       "  <thead>\n",
       "    <tr style=\"text-align: right;\">\n",
       "      <th></th>\n",
       "      <th>SOPInstanceUID</th>\n",
       "      <th>pe_present_on_image</th>\n",
       "    </tr>\n",
       "  </thead>\n",
       "  <tbody>\n",
       "    <tr>\n",
       "      <th>0</th>\n",
       "      <td>c0f3cb036d06</td>\n",
       "      <td>0</td>\n",
       "    </tr>\n",
       "    <tr>\n",
       "      <th>1</th>\n",
       "      <td>f57ffd3883b6</td>\n",
       "      <td>0</td>\n",
       "    </tr>\n",
       "    <tr>\n",
       "      <th>2</th>\n",
       "      <td>41220fda34a3</td>\n",
       "      <td>0</td>\n",
       "    </tr>\n",
       "    <tr>\n",
       "      <th>3</th>\n",
       "      <td>13b685b4b14f</td>\n",
       "      <td>0</td>\n",
       "    </tr>\n",
       "    <tr>\n",
       "      <th>4</th>\n",
       "      <td>be0b7524ffb4</td>\n",
       "      <td>0</td>\n",
       "    </tr>\n",
       "    <tr>\n",
       "      <th>...</th>\n",
       "      <td>...</td>\n",
       "      <td>...</td>\n",
       "    </tr>\n",
       "    <tr>\n",
       "      <th>1790589</th>\n",
       "      <td>da0ecef50cf5</td>\n",
       "      <td>0</td>\n",
       "    </tr>\n",
       "    <tr>\n",
       "      <th>1790590</th>\n",
       "      <td>d74b46c2f2c4</td>\n",
       "      <td>0</td>\n",
       "    </tr>\n",
       "    <tr>\n",
       "      <th>1790591</th>\n",
       "      <td>ba71189191ad</td>\n",
       "      <td>0</td>\n",
       "    </tr>\n",
       "    <tr>\n",
       "      <th>1790592</th>\n",
       "      <td>f4fdc88f2ace</td>\n",
       "      <td>0</td>\n",
       "    </tr>\n",
       "    <tr>\n",
       "      <th>1790593</th>\n",
       "      <td>f890efd48940</td>\n",
       "      <td>1</td>\n",
       "    </tr>\n",
       "  </tbody>\n",
       "</table>\n",
       "<p>1790594 rows × 2 columns</p>\n",
       "</div>"
      ],
      "text/plain": [
       "        SOPInstanceUID  pe_present_on_image\n",
       "0         c0f3cb036d06                    0\n",
       "1         f57ffd3883b6                    0\n",
       "2         41220fda34a3                    0\n",
       "3         13b685b4b14f                    0\n",
       "4         be0b7524ffb4                    0\n",
       "...                ...                  ...\n",
       "1790589   da0ecef50cf5                    0\n",
       "1790590   d74b46c2f2c4                    0\n",
       "1790591   ba71189191ad                    0\n",
       "1790592   f4fdc88f2ace                    0\n",
       "1790593   f890efd48940                    1\n",
       "\n",
       "[1790594 rows x 2 columns]"
      ]
     },
     "execution_count": 12,
     "metadata": {},
     "output_type": "execute_result"
    }
   ],
   "source": [
    "labels_csv = 'train.csv'\n",
    "labels_df = pd.read_csv(labels_csv)\n",
    "labels_df = labels_df.iloc[:, [2, 3]]\n",
    "labels_df"
   ]
  },
  {
   "cell_type": "code",
   "execution_count": null,
   "id": "61912f29-98e7-4c0a-9ef5-1c4d538eef20",
   "metadata": {},
   "outputs": [],
   "source": []
  },
  {
   "cell_type": "markdown",
   "id": "dfd1adf3-e0f4-486b-a811-fd06582c90b0",
   "metadata": {},
   "source": [
    " ### Here, we instantiate a base model with pre-trained weights."
   ]
  },
  {
   "cell_type": "code",
   "execution_count": 6,
   "id": "64681b3e-88c9-46b2-b7df-6ef734980e6f",
   "metadata": {},
   "outputs": [
    {
     "name": "stderr",
     "output_type": "stream",
     "text": [
      "2024-04-20 21:49:39.829928: I tensorflow/core/common_runtime/pluggable_device/pluggable_device_factory.cc:305] Could not identify NUMA node of platform XPU ID 0, defaulting to 0. Your kernel may not have been built with NUMA support.\n",
      "2024-04-20 21:49:39.829976: I tensorflow/core/common_runtime/pluggable_device/pluggable_device_factory.cc:271] Created TensorFlow device (/job:localhost/replica:0/task:0/device:XPU:0 with 0 MB memory) -> physical PluggableDevice (device: 0, name: XPU, pci bus id: <undefined>)\n"
     ]
    }
   ],
   "source": [
    "base_model = keras.applications.ResNet50V2(\n",
    "    weights='imagenet',  # Load weights pre-trained on ImageNet.\n",
    "    input_shape=(150, 150, 3),\n",
    "    include_top=False)  # Do not include the ImageNet classifier at the top."
   ]
  },
  {
   "cell_type": "markdown",
   "id": "648fd300-f64a-40fc-9449-d2e46fd47665",
   "metadata": {},
   "source": [
    "### Then, we freeze the base model.\r\n"
   ]
  },
  {
   "cell_type": "code",
   "execution_count": 7,
   "id": "645ac8e0-215e-427f-a178-47c9a69ee41e",
   "metadata": {},
   "outputs": [],
   "source": [
    "base_model.trainable = False"
   ]
  },
  {
   "cell_type": "markdown",
   "id": "4f51d759-2f20-41b6-a2ae-50ffa4105389",
   "metadata": {},
   "source": [
    "### Create a new model on top of the pretrained model"
   ]
  },
  {
   "cell_type": "code",
   "execution_count": 8,
   "id": "f326b63c-875c-46ff-8627-86e326fa93d3",
   "metadata": {},
   "outputs": [],
   "source": [
    "inputs = keras.Input(shape=(150, 150, 3))\n",
    "x = base_model(inputs, training=False)\n",
    "# Convert features of shape `base_model.output_shape[1:]` to vectors\n",
    "x = keras.layers.GlobalAveragePooling2D()(x)\n",
    "# A Dense classifier with a single unit (binary classification)\n",
    "outputs = keras.layers.Dense(1)(x)\n",
    "model = keras.Model(inputs, outputs)"
   ]
  },
  {
   "cell_type": "markdown",
   "id": "9f6569d6-89fd-46e0-a9e7-23c36b87b6d0",
   "metadata": {},
   "source": [
    "### Training the new model on blood clot data"
   ]
  },
  {
   "cell_type": "code",
   "execution_count": 9,
   "id": "0601ac7d-5fec-4372-8cb6-2de77a57881c",
   "metadata": {},
   "outputs": [],
   "source": [
    "from tensorflow.keras.callbacks import EarlyStopping\n",
    "\n",
    "early_stopping = EarlyStopping(\n",
    "    min_delta=0.00001, # minimium amount of change to count as an improvement\n",
    "    patience= 30, # how many epochs to wait before stopping\n",
    "    restore_best_weights=True,\n",
    ")"
   ]
  },
  {
   "cell_type": "code",
   "execution_count": 10,
   "id": "55684827-efcf-4730-8be0-834df2efc2fa",
   "metadata": {},
   "outputs": [],
   "source": [
    "model.compile(optimizer=keras.optimizers.Adam(),\n",
    "              loss=keras.losses.BinaryCrossentropy(from_logits=True),\n",
    "              metrics=[keras.metrics.BinaryAccuracy()])"
   ]
  },
  {
   "cell_type": "code",
   "execution_count": null,
   "id": "0a150c70-8c0a-429d-b31b-55f32e67b3dc",
   "metadata": {
    "scrolled": true
   },
   "outputs": [],
   "source": []
  },
  {
   "cell_type": "markdown",
   "id": "fb549955-99f0-4542-911b-6937d6fd29b0",
   "metadata": {},
   "source": [
    "### Plotting the loss history"
   ]
  },
  {
   "cell_type": "code",
   "execution_count": null,
   "id": "7afae763-c46a-45ed-9a80-7d7f99d807fd",
   "metadata": {},
   "outputs": [],
   "source": [
    "history_df = pd.DataFrame(history.history)#this creates a new df that keeps track of the training/validation \n",
    "history_df.loc[:, ['loss', 'val_loss']].plot();#this is used to visualize the loss history\n",
    "\n",
    "print(\"Minimum validation loss: {}\".format(history_df['val_loss'].min()))\n",
    "print(\"Minimum training loss: {}\".format(history_df['loss'].min()))"
   ]
  },
  {
   "cell_type": "markdown",
   "id": "be6b7f37-8154-470b-8629-3a8f8001c667",
   "metadata": {},
   "source": [
    "## ! fix  X_train, y_train, X_valid,y_valid"
   ]
  },
  {
   "cell_type": "code",
   "execution_count": null,
   "id": "f47273f3-45da-4ef7-9558-89221e36a502",
   "metadata": {},
   "outputs": [],
   "source": [
    "# Unfreeze the base model\n",
    "base_model.trainable = True\n",
    "\n",
    "# It's important to recompile your model after you make any changes\n",
    "# to the `trainable` attribute of any inner layer, so that your changes\n",
    "# are take into account\n",
    "model.compile(optimizer=keras.optimizers.Adam(1e-5),  # Very low learning rate\n",
    "              loss=keras.losses.BinaryCrossentropy(from_logits=True),\n",
    "              metrics=[keras.metrics.BinaryAccuracy()])\n",
    "\n",
    "# Train end-to-end. Be careful to stop before you overfit!\n",
    "history = model.fit(\n",
    "    X_train, y_train, #ADD the CORRECT df's for testing data\n",
    "    validation_data=(X_valid,y_valid), #ADD the CORRECT df's for validation data\n",
    "    batch_size=64,\n",
    "    epochs=500,\n",
    "    callbacks=[early_stopping], # put callbacks in a list\n",
    "    verbose=0,  # turn off training log\n",
    ")"
   ]
  }
 ],
 "metadata": {
  "kernelspec": {
   "display_name": "tensorflow-gpu",
   "language": "python",
   "name": "tensorflow-gpu"
  },
  "language_info": {
   "codemirror_mode": {
    "name": "ipython",
    "version": 3
   },
   "file_extension": ".py",
   "mimetype": "text/x-python",
   "name": "python",
   "nbconvert_exporter": "python",
   "pygments_lexer": "ipython3",
   "version": "3.9.18"
  }
 },
 "nbformat": 4,
 "nbformat_minor": 5
}
